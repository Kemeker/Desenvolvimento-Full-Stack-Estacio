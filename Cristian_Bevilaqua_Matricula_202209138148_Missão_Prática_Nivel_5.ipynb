{
  "nbformat": 4,
  "nbformat_minor": 0,
  "metadata": {
    "colab": {
      "provenance": [],
      "authorship_tag": "ABX9TyMMAog/a1apWVdvJsi1sTed",
      "include_colab_link": true
    },
    "kernelspec": {
      "name": "python3",
      "display_name": "Python 3"
    },
    "language_info": {
      "name": "python"
    }
  },
  "cells": [
    {
      "cell_type": "markdown",
      "metadata": {
        "id": "view-in-github",
        "colab_type": "text"
      },
      "source": [
        "<a href=\"https://colab.research.google.com/github/Kemeker/Dev-Full-Stack-Estacio/blob/main/Cristian_Bevilaqua_Matricula_202209138148_Miss%C3%A3o_Pr%C3%A1tica_Nivel_5.ipynb\" target=\"_parent\"><img src=\"https://colab.research.google.com/assets/colab-badge.svg\" alt=\"Open In Colab\"/></a>"
      ]
    },
    {
      "cell_type": "markdown",
      "source": [
        "![image](https://user-images.githubusercontent.com/104402733/190884763-56a3f373-8101-49fc-b21c-965b8ea30e36.png)\n",
        "\n",
        "# Campus Chapeco-SC - Graduaçao Full Stack\n",
        "\n",
        "# Materia: Nível 5 Colocando Tudo em Ordem e Guardando\n",
        "# Turma: Turma 22.3 - 1º semestre\n",
        "# Instituiçao: Estacio de Sá\n",
        "# Aluno: Cristian Bevilaqua\n",
        "# Matricula: 202209138148\n",
        "\n",
        "## Missão Prática Nivel 5\n",
        "\n",
        "                                  OBJETIVO\n",
        "\n",
        "Gravar e recuperar dados de arquivos textos. Manipular os dados para visualizá-los em um histograma e uma nuvem de palavras. Implementar um programa para gerar dados com nomes de pessoas e respectivas pontuações, gravas em um arquivo, recuperar os dados do arquivo, visualizar os dados das pontuações das pessoas em um histograma e em uma nuvem de palavras.\n",
        "\n",
        "\n",
        "\n",
        "\n",
        "\n",
        "\n",
        "\n",
        "\n"
      ],
      "metadata": {
        "id": "8whFlYWr3Mya"
      }
    },
    {
      "cell_type": "markdown",
      "source": [
        "# Instalando as Bibliotecas"
      ],
      "metadata": {
        "id": "b3ipZDISR0I8"
      }
    },
    {
      "cell_type": "code",
      "source": [
        "pip install wordcloud"
      ],
      "metadata": {
        "id": "_LQRa5qb6Hbc"
      },
      "execution_count": 1,
      "outputs": []
    },
    {
      "cell_type": "code",
      "source": [
        "pip install num2words\n"
      ],
      "metadata": {
        "id": "EEAVu36bKUeR"
      },
      "execution_count": null,
      "outputs": []
    },
    {
      "cell_type": "code",
      "source": [
        "pip install faker\n"
      ],
      "metadata": {
        "id": "cx2htIf32482"
      },
      "execution_count": null,
      "outputs": []
    },
    {
      "cell_type": "code",
      "source": [
        "pip install wordcloud"
      ],
      "metadata": {
        "id": "RL2LwkrSjv3j"
      },
      "execution_count": null,
      "outputs": []
    },
    {
      "cell_type": "markdown",
      "source": [
        "**Importando Bibliotecas**"
      ],
      "metadata": {
        "id": "tpr2Zhfh7GSL"
      }
    },
    {
      "cell_type": "code",
      "source": [
        "'''--------Importaçoes---------'''\n",
        "import matplotlib.pyplot as plt\n",
        "from faker import Faker\n",
        "from wordcloud import WordCloud\n",
        "from num2words import num2words\n",
        "from datetime import datetime\n",
        "import numpy as np\n",
        "import pandas as pd"
      ],
      "metadata": {
        "id": "c61zxDuZGGhy"
      },
      "execution_count": 6,
      "outputs": []
    },
    {
      "cell_type": "markdown",
      "source": [
        "**Variaveis Globais**"
      ],
      "metadata": {
        "id": "PZrRIOCt9Szu"
      }
    },
    {
      "cell_type": "code",
      "source": [
        "'''--------Global-----'''\n",
        "\n",
        "dados_aleatorios = Faker('pt_BR')\n",
        "lista_dados = []\n",
        "lista_notas = []\n",
        "lista_nomes = []\n",
        "\n",
        " \n",
        "\n"
      ],
      "metadata": {
        "id": "jIagsxjLvLW5"
      },
      "execution_count": 7,
      "outputs": []
    },
    {
      "cell_type": "markdown",
      "source": [
        "**Gravando e criando arquivo**"
      ],
      "metadata": {
        "id": "uAAG-hr39gT_"
      }
    },
    {
      "cell_type": "code",
      "source": [
        "'''-------------------------Gravando e Criando Arquivo-------------------------------------------'''\n",
        "for i in range(20):\n",
        "\n",
        "    \n",
        "    dados = ('Aluno: ' + dados_aleatorios.name() + ' - ' + 'Nota: '  + str(dados_aleatorios.random_int(1,10)))\n",
        "    lista_dados.append(dados)\n",
        "\n",
        "with open('Dados.txt', 'w', encoding='utf-8') as arquivo:\n",
        "  for valor in lista_dados:\n",
        "    arquivo.write(valor +  '\\n')\n",
        "\n"
      ],
      "metadata": {
        "id": "tnBUfyXCi0mi"
      },
      "execution_count": 8,
      "outputs": []
    },
    {
      "cell_type": "markdown",
      "source": [
        "\n",
        "\n",
        "**Lendo arquivo e recuperando**\n",
        "\n"
      ],
      "metadata": {
        "id": "77m7dE0V9q2h"
      }
    },
    {
      "cell_type": "code",
      "source": [
        "'''----------------------------Lendo arquivo e recuperando---------------------------------------------------------'''\n",
        "with open('Dados.txt', 'r', encoding='utf-8') as arquivo_recuperar:\n",
        "    for i in range (len(lista_dados)):\n",
        "        ler = arquivo_recuperar.readline() \n",
        "        separar_notas = ler.split(' ')\n",
        "        nota = int(separar_notas[-1])\n",
        "        lista_notas.append(nota) \n",
        "        lista_nomes_2 = num2words(nota, lang= 'pt_BR') \n",
        "        lista_nomes.append(lista_nomes_2) \n",
        "        lista_nome_str = (' ').join(lista_nomes) \n",
        "\n",
        "  "
      ],
      "metadata": {
        "id": "xG1xf2m454yV"
      },
      "execution_count": 12,
      "outputs": []
    },
    {
      "cell_type": "markdown",
      "source": [
        "**Gerando Histograma***"
      ],
      "metadata": {
        "id": "VW_uQ_Kh99Z2"
      }
    },
    {
      "cell_type": "code",
      "source": [
        "'''-----------------------Histograma--------------------------------------'''\n",
        "plt.title('Histograma das Pontuações')\n",
        "plt.xlabel('Pontuações')\n",
        "plt.ylabel('Probabilidade')\n",
        "plt.xlim(-0.5,10.5) \n",
        "plt.hist(lista_notas, bins=np.arange(-0.5,11), density=True, rwidth=0.75) \n",
        "plt.show()\n",
        "\n",
        "\n",
        "  \n"
      ],
      "metadata": {
        "id": "woKdtOl8jqnx",
        "colab": {
          "base_uri": "https://localhost:8080/",
          "height": 295
        },
        "outputId": "54432fc1-8fb9-4b80-c9f9-ee4831744f17"
      },
      "execution_count": 13,
      "outputs": [
        {
          "output_type": "display_data",
          "data": {
            "text/plain": [
              "<Figure size 432x288 with 1 Axes>"
            ],
            "image/png": "[encoded data removed]"
          },
          "metadata": {
            "needs_background": "light"
          }
        }
      ]
    },
    {
      "cell_type": "markdown",
      "source": [
        "**Gerando Nuvem de Palavras**"
      ],
      "metadata": {
        "id": "D7xYW4PJ-Nkv"
      }
    },
    {
      "cell_type": "code",
      "source": [
        "'''----------------------------------Nuvem de Palavras--------------------------------------------'''\n",
        "\n",
        "nuvem_palavras = WordCloud(background_color='Black', width=600,height=400).generate(lista_nome_str)\n",
        "plt.imshow(nuvem_palavras, interpolation='bilinear')\n",
        "plt.axis(\"off\")\n",
        "plt.show()\n",
        "nuvem_palavras.to_file(\"Nuvem de palavras.png\")\n",
        "nuvem_palavras.to_file(\"Nuvem de palavras.png\")\n",
        "\n",
        "\n"
      ],
      "metadata": {
        "id": "plQuZXDsnMP7",
        "colab": {
          "base_uri": "https://localhost:8080/",
          "height": 266
        },
        "outputId": "511afcbf-32d5-436c-d3f7-2ac53272ef71"
      },
      "execution_count": 14,
      "outputs": [
        {
          "output_type": "display_data",
          "data": {
            "text/plain": [
              "<Figure size 432x288 with 1 Axes>"
            ],
            "image/png": "[encoded data removed]"
          },
          "metadata": {
            "needs_background": "light"
          }
        },
        {
          "output_type": "execute_result",
          "data": {
            "text/plain": [
              "<wordcloud.wordcloud.WordCloud at 0x7f1247516810>"
            ]
          },
          "metadata": {},
          "execution_count": 14
        }
      ]
    },
    {
      "cell_type": "markdown",
      "source": [
        "# Conclusao\n",
        "\n",
        "Qual a importância de manipular arquivos de texto?\n",
        "\n",
        "R: Manipular dados em texto nos faz perceber o quanto e poderoso a ciência de dados, podemos analizar e manipular de diversas formas. \n",
        "\n",
        "Qual a importância de visualizar os dados em um histograma?\n",
        "\n",
        "R: Pelo grafico ser uma ferramenta visual e ampla, ela facilita a vizualiaçao de estatisticas e dados em grande quantidade.\n",
        "\n",
        "O que significa a visualização por nuvem de palavras?\n",
        "\n",
        "R: Nos permite uma representaçao visual, mais ampla das palavras e frases mais comuns."
      ],
      "metadata": {
        "id": "zCHn72SE-ibw"
      }
    }
  ]
}